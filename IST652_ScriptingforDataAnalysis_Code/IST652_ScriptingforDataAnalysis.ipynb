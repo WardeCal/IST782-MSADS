{
 "cells": [
  {
   "cell_type": "markdown",
   "metadata": {
    "id": "IjZkSToztvCD"
   },
   "source": [
    "# Sports Analytics\n",
    "By: Patrick Bulger, Tim Hulak, Jordan Hyatt, Cal Wardell"
   ]
  },
  {
   "cell_type": "code",
   "execution_count": 1,
   "metadata": {
    "colab": {
     "base_uri": "https://localhost:8080/"
    },
    "id": "rLQ6m7g1Yfpo",
    "outputId": "c73f1d2f-7924-490c-9a59-301cbc363c9c"
   },
   "outputs": [],
   "source": [
    "# Import Dependencies \n",
    "import pandas as pd\n",
    "pd.set_option('display.max_columns', None)\n",
    "pd.set_option('display.max_rows', None)\n",
    "import matplotlib.pyplot as plt\n",
    "import seaborn as sns\n",
    "import statsmodels.formula.api as sm"
   ]
  },
  {
   "cell_type": "code",
   "execution_count": 2,
   "metadata": {
    "id": "4R8eBW-WY0oV",
    "scrolled": true
   },
   "outputs": [],
   "source": [
    "# Read in data\n",
    "NFL = pd.read_csv(\"NFLdata.csv\", low_memory=False)"
   ]
  },
  {
   "cell_type": "markdown",
   "metadata": {},
   "source": [
    "## Clean and Prep data"
   ]
  },
  {
   "cell_type": "code",
   "execution_count": 3,
   "metadata": {
    "id": "q9O84Ywuc6jo"
   },
   "outputs": [],
   "source": [
    "#Delete unneeded columns\n",
    "col_del_list = [\n",
    "  \"no_score_prob\",\"opp_fg_prob\",\"opp_safety_prob\",\"opp_td_prob\",\"fg_prob\",\n",
    "  \"safety_prob\",\"td_prob\",\"extra_point_prob\",\"two_point_conversion_prob\",\n",
    "  \"ep\",\"epa\",\"total_home_epa\",\"total_away_epa\",\"total_home_rush_epa\",\n",
    "  \"total_away_rush_epa\",\"total_home_pass_epa\",\"air_epa\",\"yac_epa\",\"comp_air_epa\",\n",
    "  \"comp_yac_epa\",\"total_home_comp_air_epa\",\"total_away_comp_air_epa\",\n",
    "  \"total_home_comp_yac_epa\",\"total_away_comp_yac_epa\",\"total_home_raw_air_epa\",\n",
    "  \"total_away_raw_air_epa\",\"total_home_raw_yac_epa\",\"total_away_raw_yac_epa\", \n",
    "  \"wp\", \"def_wp\",\"home_wp\",\"away_wp\",\"wpa\",\"home_wp_post\",\"away_wp_post\",\n",
    "  \"total_home_rush_wpa\",\"total_away_rush_wpa\",\"total_home_pass_wpa\",\n",
    "  \"total_away_pass_wpa\",\"air_wpa\",\"yac_wpa\",\"comp_air_wpa\",\"comp_yac_wpa\",\n",
    "  \"total_home_comp_air_wpa\",\"total_away_comp_air_wpa\",\"total_home_comp_yac_wpa\",\n",
    "  \"total_home_raw_air_wpa\",\"total_away_raw_air_wpa\",\"total_home_raw_yac_wpa\",\n",
    "  \"total_away_raw_yac_wpa\",\"passer_player_id\",\"receiver_player_id\",\n",
    "  \"rusher_player_id\",\"lateral_receiver_player_id\",\"lateral_rusher_player_id\",\n",
    "  \"lateral_sack_player_id\",\"interception_player_id\",\n",
    "  \"lateral_interception_player_id\",\"punt_returner_player_id\",\n",
    "  \"lateral_punt_returner_player_id\",\"kickoff_returner_player_id\",\n",
    "  \"lateral_kickoff_returner_player_id\",\"punter_player_id\",\"kicker_player_id\",\n",
    "  \"own_kickoff_recovery_player_id\",\"blocked_player_id\",\n",
    "  \"tackle_for_loss_1_player_id\",\"tackle_for_loss_2_player_id\",\n",
    "  \"qb_hit_1_player_id\",\"qb_hit_2_player_id\",\"forced_fumble_player_1_player_id\",\n",
    "  \"forced_fumble_player_2_player_id\",\n",
    "  \"solo_tackle_1_player_id\",\"solo_tackle_2_player_id\",\"assist_tackle_1_player_id\",\n",
    "  \"assist_tackle_2_player_id\",\"assist_tackle_3_player_id\",\n",
    "  \"assist_tackle_4_player_id\",\"pass_defense_1_player_id\",\"pass_defense_2_player_id\",\n",
    "  \"fumbled_1_player_id\",\"fumbled_2_player_id\",\"fumble_recovery_1_team\",\n",
    "  \"fumble_recovery_1_player_id\",\"fumble_recovery_2_player_id\",\"penalty_player_id\",\n",
    "  \"total_away_pass_epa\"\n",
    "]\n",
    "\n",
    "for column in col_del_list:\n",
    "    del NFL[column]"
   ]
  },
  {
   "cell_type": "markdown",
   "metadata": {},
   "source": [
    "__Fix Team Names__ <br> There are 32 NFL teams. The data spans from 2009 - 2018 and shows 35 unique teams. During that time frame, 3 NFL teams changed their team abbreviation. The Chargers moved from San Diego, CA to Los Angeles, CA in 2017, therefore their team abbreviation changed from SD to LAC. In 2013, a social media campaign and fan petition saw the Jaguars change their team abbreviation from JAC to JAX. Finally, in 2016 the Rams moved from St. Louis, MO to Los Angeles, CA and their team abbreviation changed from STL to LA. The first step in cleaning the data is to convert the old abbreviations to the new abbreviations in order to analyze team performance as a whole."
   ]
  },
  {
   "cell_type": "code",
   "execution_count": 4,
   "metadata": {
    "id": "5_rQwLvs05jn"
   },
   "outputs": [],
   "source": [
    "NFL.replace(\"JAC\",\"JAX\",inplace= True)\n",
    "NFL.replace(\"SD\",\"LAC\",inplace= True)\n",
    "NFL.replace(\"STL\",\"LA\",inplace= True)"
   ]
  },
  {
   "cell_type": "code",
   "execution_count": 5,
   "metadata": {},
   "outputs": [],
   "source": [
    "#Add column to add season to data\n",
    "def get_season(date):\n",
    "    if type(date)==str: date = pd.to_datetime(date)\n",
    "    year = date.year\n",
    "    if date.month<5: year = year-1\n",
    "    return f'season_{year}'\n",
    "NFL['season'] = pd.to_datetime(NFL['game_date']).apply(get_season)\n",
    "doc = open(\"Columns.txt\",'w')\n",
    "for column in NFL.columns:\n",
    "    print(column, file = doc)\n",
    "doc.close()"
   ]
  },
  {
   "cell_type": "markdown",
   "metadata": {},
   "source": [
    "## Analytics"
   ]
  },
  {
   "cell_type": "markdown",
   "metadata": {},
   "source": [
    "My role in this project was to answer the following two questions"
   ]
  },
  {
   "cell_type": "markdown",
   "metadata": {},
   "source": [
    "__Question 1:What is the winning percentage for quarterback in games they throw over 40 times?__"
   ]
  },
  {
   "cell_type": "code",
   "execution_count": 6,
   "metadata": {
    "scrolled": false
   },
   "outputs": [
    {
     "name": "stderr",
     "output_type": "stream",
     "text": [
      "C:\\Users\\calwa\\anaconda3\\lib\\site-packages\\pandas\\util\\_decorators.py:311: SettingWithCopyWarning: \n",
      "A value is trying to be set on a copy of a slice from a DataFrame\n",
      "\n",
      "See the caveats in the documentation: https://pandas.pydata.org/pandas-docs/stable/user_guide/indexing.html#returning-a-view-versus-a-copy\n",
      "  return func(*args, **kwargs)\n"
     ]
    },
    {
     "name": "stdout",
     "output_type": "stream",
     "text": [
      "There are 366 quaterbacks in our data\n"
     ]
    },
    {
     "data": {
      "text/plain": [
       "array([<AxesSubplot:title={'center':'pass_attempt'}, xlabel='Number of throws', ylabel='Number of games'>],\n",
       "      dtype=object)"
      ]
     },
     "execution_count": 6,
     "metadata": {},
     "output_type": "execute_result"
    },
    {
     "data": {
      "image/png": "[encoded data removed]",
      "text/plain": [
       "<Figure size 432x288 with 1 Axes>"
      ]
     },
     "metadata": {
      "needs_background": "light"
     },
     "output_type": "display_data"
    }
   ],
   "source": [
    "#Get columns needed from NFL Dataframe\n",
    "passers = NFL[['game_id','home_team','away_team','posteam','defteam','passer_player_name','total_home_score'\n",
    "               ,'total_away_score','posteam_score','defteam_score','pass_attempt','down','play_type','sack','complete_pass'\n",
    "               ,'desc']]\n",
    "#Remove duplicate plays\n",
    "passers.drop_duplicates(subset=['desc'], inplace = True)\n",
    "#Set up so passes are only counting when we have an actual pass attempt\n",
    "passers = passers[passers['pass_attempt'] == 1]\n",
    "\n",
    "passers = passers[passers['play_type'] == 'pass']\n",
    "\n",
    "passers = passers[passers['sack'] == 0]\n",
    "#To get the total number of quaterbacks in the data\n",
    "print(f\"There are {len(passers['passer_player_name'].unique())} quaterbacks in our data\")\n",
    "#Make a datafame that is grouped by games and players and counts pass attempts\n",
    "\n",
    "#asser_group = passers.groupby(['game_id','game_date','passer_player_name','posteam','defteam'], as_index = False).pass_attempt.sum().reset_index()\n",
    "passer_group = passers.groupby(['game_id','passer_player_name','posteam'], as_index = False).pass_attempt.sum().reset_index()\n",
    "#Delete extra column\n",
    "del passer_group['index']\n",
    "#histogram of our data \n",
    "passer_hist_df = passer_group.loc[passer_group['pass_attempt'] > 5]\n",
    "passer_hist = passer_hist_df.hist('pass_attempt')\n",
    "ax = passer_hist[0]\n",
    "for x in ax:\n",
    "    x.set_xlabel('Number of throws')\n",
    "    x.set_ylabel('Number of games')\n",
    "ax"
   ]
  },
  {
   "cell_type": "markdown",
   "metadata": {},
   "source": [
    "Majority of games the quarterback throws between 20 and 40 times. "
   ]
  },
  {
   "cell_type": "code",
   "execution_count": 7,
   "metadata": {},
   "outputs": [],
   "source": [
    "#Function that gets us the winner of each game\n",
    "def get_winner(df):\n",
    "    max_hs = df.total_home_score.max() #max score of home team for each game\n",
    "    max_as = df.total_away_score.max() #max score for away team in each game\n",
    "    if max_hs > max_as:\n",
    "        return df.home_team.iloc[0] #If home team has more points by end of game return home team\n",
    "    else:\n",
    "        return df.away_team.iloc[0] # If away team has more points by end of tame return away team\n",
    "\n",
    "winners = passers.groupby('game_id').apply(get_winner) #run function\n",
    "winners.name = 'winning_team' #assign value\n",
    "#join winning team to each game, match by game_id\n",
    "gdf=passer_group.set_index('game_id').join(winners)\n"
   ]
  },
  {
   "cell_type": "code",
   "execution_count": 19,
   "metadata": {
    "scrolled": true
   },
   "outputs": [
    {
     "data": {
      "text/html": [
       "<div>\n",
       "<style scoped>\n",
       "    .dataframe tbody tr th:only-of-type {\n",
       "        vertical-align: middle;\n",
       "    }\n",
       "\n",
       "    .dataframe tbody tr th {\n",
       "        vertical-align: top;\n",
       "    }\n",
       "\n",
       "    .dataframe thead th {\n",
       "        text-align: right;\n",
       "    }\n",
       "</style>\n",
       "<table border=\"1\" class=\"dataframe\">\n",
       "  <thead>\n",
       "    <tr style=\"text-align: right;\">\n",
       "      <th></th>\n",
       "      <th>passer_player_name</th>\n",
       "      <th>posteam</th>\n",
       "      <th>pass_attempt</th>\n",
       "      <th>winning_team</th>\n",
       "      <th>won</th>\n",
       "      <th>overlimit</th>\n",
       "      <th>win_with_40</th>\n",
       "    </tr>\n",
       "    <tr>\n",
       "      <th>game_id</th>\n",
       "      <th></th>\n",
       "      <th></th>\n",
       "      <th></th>\n",
       "      <th></th>\n",
       "      <th></th>\n",
       "      <th></th>\n",
       "      <th></th>\n",
       "    </tr>\n",
       "  </thead>\n",
       "  <tbody>\n",
       "    <tr>\n",
       "      <th>2009091000</th>\n",
       "      <td>B.Roethlisberger</td>\n",
       "      <td>PIT</td>\n",
       "      <td>43.0</td>\n",
       "      <td>TEN</td>\n",
       "      <td>False</td>\n",
       "      <td>True</td>\n",
       "      <td>False</td>\n",
       "    </tr>\n",
       "    <tr>\n",
       "      <th>2009091000</th>\n",
       "      <td>K.Collins</td>\n",
       "      <td>TEN</td>\n",
       "      <td>35.0</td>\n",
       "      <td>TEN</td>\n",
       "      <td>True</td>\n",
       "      <td>False</td>\n",
       "      <td>False</td>\n",
       "    </tr>\n",
       "    <tr>\n",
       "      <th>2009091300</th>\n",
       "      <td>C.Pennington</td>\n",
       "      <td>MIA</td>\n",
       "      <td>28.0</td>\n",
       "      <td>ATL</td>\n",
       "      <td>False</td>\n",
       "      <td>False</td>\n",
       "      <td>False</td>\n",
       "    </tr>\n",
       "    <tr>\n",
       "      <th>2009091300</th>\n",
       "      <td>M.Ryan</td>\n",
       "      <td>ATL</td>\n",
       "      <td>36.0</td>\n",
       "      <td>ATL</td>\n",
       "      <td>True</td>\n",
       "      <td>False</td>\n",
       "      <td>False</td>\n",
       "    </tr>\n",
       "    <tr>\n",
       "      <th>2009091300</th>\n",
       "      <td>P.White</td>\n",
       "      <td>MIA</td>\n",
       "      <td>1.0</td>\n",
       "      <td>ATL</td>\n",
       "      <td>False</td>\n",
       "      <td>False</td>\n",
       "      <td>False</td>\n",
       "    </tr>\n",
       "  </tbody>\n",
       "</table>\n",
       "</div>"
      ],
      "text/plain": [
       "           passer_player_name posteam  pass_attempt winning_team    won  \\\n",
       "game_id                                                                   \n",
       "2009091000   B.Roethlisberger     PIT          43.0          TEN  False   \n",
       "2009091000          K.Collins     TEN          35.0          TEN   True   \n",
       "2009091300       C.Pennington     MIA          28.0          ATL  False   \n",
       "2009091300             M.Ryan     ATL          36.0          ATL   True   \n",
       "2009091300            P.White     MIA           1.0          ATL  False   \n",
       "\n",
       "            overlimit  win_with_40  \n",
       "game_id                             \n",
       "2009091000       True        False  \n",
       "2009091000      False        False  \n",
       "2009091300      False        False  \n",
       "2009091300      False        False  \n",
       "2009091300      False        False  "
      ]
     },
     "execution_count": 19,
     "metadata": {},
     "output_type": "execute_result"
    }
   ],
   "source": [
    "#function returns true if the possesion team is equal to winning team and False if not\n",
    "def get_won(ser):\n",
    "    if ser.posteam == ser.winning_team:\n",
    "        return True\n",
    "    else:\n",
    "        return False\n",
    "gdf['won']=gdf.apply(get_won,axis=1) #Apply function\n",
    "gdf.head()"
   ]
  },
  {
   "cell_type": "code",
   "execution_count": 9,
   "metadata": {
    "scrolled": true
   },
   "outputs": [],
   "source": [
    "#Returns a column with ture if pass attempts by the quarterback is equal to or over the 40 we are looking at\n",
    "gdf['overlimit']=gdf.pass_attempt >= 40\n",
    "#Function that will return true if the quaterback throw over 40 times and won the game, false for any other situation\n",
    "def win_with_40 (ser):\n",
    "    if ser.won == True and ser.overlimit == True:\n",
    "        return True\n",
    "    else:\n",
    "        return False\n",
    "gdf['win_with_40'] = gdf.apply(win_with_40, axis = 1) # apply function"
   ]
  },
  {
   "cell_type": "code",
   "execution_count": 10,
   "metadata": {},
   "outputs": [
    {
     "data": {
      "text/plain": [
       "False    94.14884800265209%\n",
       "True      5.85115199734792%\n",
       "Name: win_with_40, dtype: object"
      ]
     },
     "execution_count": 10,
     "metadata": {},
     "output_type": "execute_result"
    }
   ],
   "source": [
    "#Returns the total percentage of games that the quaterback threw over 40 and won the game.\n",
    "gdf['win_with_40'].value_counts(normalize=True).mul(100).astype(str)+'%'"
   ]
  },
  {
   "cell_type": "markdown",
   "metadata": {},
   "source": [
    "Overall, only about 6% of games the quaterback wins when he throws over 40 times. Now to look at each quaterback and see if any quaterbacks have a winning record"
   ]
  },
  {
   "cell_type": "code",
   "execution_count": 11,
   "metadata": {
    "scrolled": true
   },
   "outputs": [],
   "source": [
    "#Data frame with the needed info to do our anlysis \n",
    "Win = gdf[['passer_player_name','overlimit','win_with_40']]\n",
    "Win = Win.loc[Win['overlimit'] == True] #Remove instance a QB didnt throw the ball over 40 times"
   ]
  },
  {
   "cell_type": "code",
   "execution_count": 12,
   "metadata": {
    "scrolled": true
   },
   "outputs": [],
   "source": [
    "#Gets the winning percetage of games where he threw over 40 for each quaterback \n",
    "WinPerc = Win.groupby('passer_player_name')\n",
    "WinPerc = WinPerc['win_with_40'].value_counts(normalize = True)\n",
    "WinPerc = WinPerc.drop(labels=False, level =1)\n",
    "WinPerc.name =\"WinPerc\""
   ]
  },
  {
   "cell_type": "code",
   "execution_count": 13,
   "metadata": {
    "scrolled": true
   },
   "outputs": [],
   "source": [
    "#Gets the total number of games won where he threw over 40 for each quaterback\n",
    "WinCount = Win.groupby('passer_player_name')\n",
    "WinCount = WinCount['win_with_40'].value_counts()\n",
    "WinCount = WinCount.drop(labels=False, level =1)\n",
    "WinCount.name = \"WinCount\""
   ]
  },
  {
   "cell_type": "code",
   "execution_count": 14,
   "metadata": {
    "scrolled": false
   },
   "outputs": [
    {
     "data": {
      "text/html": [
       "<div>\n",
       "<style scoped>\n",
       "    .dataframe tbody tr th:only-of-type {\n",
       "        vertical-align: middle;\n",
       "    }\n",
       "\n",
       "    .dataframe tbody tr th {\n",
       "        vertical-align: top;\n",
       "    }\n",
       "\n",
       "    .dataframe thead th {\n",
       "        text-align: right;\n",
       "    }\n",
       "</style>\n",
       "<table border=\"1\" class=\"dataframe\">\n",
       "  <thead>\n",
       "    <tr style=\"text-align: right;\">\n",
       "      <th></th>\n",
       "      <th></th>\n",
       "      <th>WinPerc</th>\n",
       "      <th>WinCount</th>\n",
       "      <th>NumofGames</th>\n",
       "    </tr>\n",
       "    <tr>\n",
       "      <th>passer_player_name</th>\n",
       "      <th>win_with_40</th>\n",
       "      <th></th>\n",
       "      <th></th>\n",
       "      <th></th>\n",
       "    </tr>\n",
       "  </thead>\n",
       "  <tbody>\n",
       "    <tr>\n",
       "      <th>T.Brady</th>\n",
       "      <th>True</th>\n",
       "      <td>0.680851</td>\n",
       "      <td>32</td>\n",
       "      <td>47.0</td>\n",
       "    </tr>\n",
       "    <tr>\n",
       "      <th>P.Manning</th>\n",
       "      <th>True</th>\n",
       "      <td>0.675000</td>\n",
       "      <td>27</td>\n",
       "      <td>40.0</td>\n",
       "    </tr>\n",
       "    <tr>\n",
       "      <th>M.Schaub</th>\n",
       "      <th>True</th>\n",
       "      <td>0.500000</td>\n",
       "      <td>7</td>\n",
       "      <td>14.0</td>\n",
       "    </tr>\n",
       "    <tr>\n",
       "      <th>A.Rodgers</th>\n",
       "      <th>True</th>\n",
       "      <td>0.452381</td>\n",
       "      <td>19</td>\n",
       "      <td>42.0</td>\n",
       "    </tr>\n",
       "    <tr>\n",
       "      <th>D.Brees</th>\n",
       "      <th>True</th>\n",
       "      <td>0.428571</td>\n",
       "      <td>30</td>\n",
       "      <td>70.0</td>\n",
       "    </tr>\n",
       "    <tr>\n",
       "      <th>A.Luck</th>\n",
       "      <th>True</th>\n",
       "      <td>0.400000</td>\n",
       "      <td>14</td>\n",
       "      <td>35.0</td>\n",
       "    </tr>\n",
       "    <tr>\n",
       "      <th>P.Rivers</th>\n",
       "      <th>True</th>\n",
       "      <td>0.365854</td>\n",
       "      <td>15</td>\n",
       "      <td>41.0</td>\n",
       "    </tr>\n",
       "    <tr>\n",
       "      <th>B.Roethlisberger</th>\n",
       "      <th>True</th>\n",
       "      <td>0.363636</td>\n",
       "      <td>16</td>\n",
       "      <td>44.0</td>\n",
       "    </tr>\n",
       "    <tr>\n",
       "      <th>A.Dalton</th>\n",
       "      <th>True</th>\n",
       "      <td>0.346154</td>\n",
       "      <td>9</td>\n",
       "      <td>26.0</td>\n",
       "    </tr>\n",
       "    <tr>\n",
       "      <th>J.Flacco</th>\n",
       "      <th>True</th>\n",
       "      <td>0.340909</td>\n",
       "      <td>15</td>\n",
       "      <td>44.0</td>\n",
       "    </tr>\n",
       "    <tr>\n",
       "      <th>M.Ryan</th>\n",
       "      <th>True</th>\n",
       "      <td>0.339623</td>\n",
       "      <td>18</td>\n",
       "      <td>53.0</td>\n",
       "    </tr>\n",
       "    <tr>\n",
       "      <th>M.Hasselbeck</th>\n",
       "      <th>True</th>\n",
       "      <td>0.333333</td>\n",
       "      <td>5</td>\n",
       "      <td>15.0</td>\n",
       "    </tr>\n",
       "    <tr>\n",
       "      <th>R.Fitzpatrick</th>\n",
       "      <th>True</th>\n",
       "      <td>0.318182</td>\n",
       "      <td>7</td>\n",
       "      <td>22.0</td>\n",
       "    </tr>\n",
       "    <tr>\n",
       "      <th>M.Sanchez</th>\n",
       "      <th>True</th>\n",
       "      <td>0.307692</td>\n",
       "      <td>4</td>\n",
       "      <td>13.0</td>\n",
       "    </tr>\n",
       "    <tr>\n",
       "      <th>E.Manning</th>\n",
       "      <th>True</th>\n",
       "      <td>0.304348</td>\n",
       "      <td>14</td>\n",
       "      <td>46.0</td>\n",
       "    </tr>\n",
       "    <tr>\n",
       "      <th>M.Stafford</th>\n",
       "      <th>True</th>\n",
       "      <td>0.288136</td>\n",
       "      <td>17</td>\n",
       "      <td>59.0</td>\n",
       "    </tr>\n",
       "    <tr>\n",
       "      <th>K.Cousins</th>\n",
       "      <th>True</th>\n",
       "      <td>0.280000</td>\n",
       "      <td>7</td>\n",
       "      <td>25.0</td>\n",
       "    </tr>\n",
       "    <tr>\n",
       "      <th>J.McCown</th>\n",
       "      <th>True</th>\n",
       "      <td>0.272727</td>\n",
       "      <td>3</td>\n",
       "      <td>11.0</td>\n",
       "    </tr>\n",
       "    <tr>\n",
       "      <th>A.Smith</th>\n",
       "      <th>True</th>\n",
       "      <td>0.263158</td>\n",
       "      <td>5</td>\n",
       "      <td>19.0</td>\n",
       "    </tr>\n",
       "    <tr>\n",
       "      <th>B.Hoyer</th>\n",
       "      <th>True</th>\n",
       "      <td>0.250000</td>\n",
       "      <td>3</td>\n",
       "      <td>12.0</td>\n",
       "    </tr>\n",
       "    <tr>\n",
       "      <th>C.Newton</th>\n",
       "      <th>True</th>\n",
       "      <td>0.230769</td>\n",
       "      <td>3</td>\n",
       "      <td>13.0</td>\n",
       "    </tr>\n",
       "    <tr>\n",
       "      <th>C.Wentz</th>\n",
       "      <th>True</th>\n",
       "      <td>0.230769</td>\n",
       "      <td>3</td>\n",
       "      <td>13.0</td>\n",
       "    </tr>\n",
       "    <tr>\n",
       "      <th>J.Freeman</th>\n",
       "      <th>True</th>\n",
       "      <td>0.230769</td>\n",
       "      <td>3</td>\n",
       "      <td>13.0</td>\n",
       "    </tr>\n",
       "    <tr>\n",
       "      <th>C.Palmer</th>\n",
       "      <th>True</th>\n",
       "      <td>0.222222</td>\n",
       "      <td>8</td>\n",
       "      <td>36.0</td>\n",
       "    </tr>\n",
       "    <tr>\n",
       "      <th>D.Carr</th>\n",
       "      <th>True</th>\n",
       "      <td>0.210526</td>\n",
       "      <td>4</td>\n",
       "      <td>19.0</td>\n",
       "    </tr>\n",
       "    <tr>\n",
       "      <th>J.Cutler</th>\n",
       "      <th>True</th>\n",
       "      <td>0.210526</td>\n",
       "      <td>4</td>\n",
       "      <td>19.0</td>\n",
       "    </tr>\n",
       "    <tr>\n",
       "      <th>C.Keenum</th>\n",
       "      <th>True</th>\n",
       "      <td>0.181818</td>\n",
       "      <td>2</td>\n",
       "      <td>11.0</td>\n",
       "    </tr>\n",
       "    <tr>\n",
       "      <th>T.Romo</th>\n",
       "      <th>True</th>\n",
       "      <td>0.173913</td>\n",
       "      <td>4</td>\n",
       "      <td>23.0</td>\n",
       "    </tr>\n",
       "    <tr>\n",
       "      <th>C.Henne</th>\n",
       "      <th>True</th>\n",
       "      <td>0.166667</td>\n",
       "      <td>3</td>\n",
       "      <td>18.0</td>\n",
       "    </tr>\n",
       "    <tr>\n",
       "      <th>K.Orton</th>\n",
       "      <th>True</th>\n",
       "      <td>0.153846</td>\n",
       "      <td>2</td>\n",
       "      <td>13.0</td>\n",
       "    </tr>\n",
       "    <tr>\n",
       "      <th>B.Bortles</th>\n",
       "      <th>True</th>\n",
       "      <td>0.117647</td>\n",
       "      <td>2</td>\n",
       "      <td>17.0</td>\n",
       "    </tr>\n",
       "    <tr>\n",
       "      <th>R.Tannehill</th>\n",
       "      <th>True</th>\n",
       "      <td>0.117647</td>\n",
       "      <td>2</td>\n",
       "      <td>17.0</td>\n",
       "    </tr>\n",
       "    <tr>\n",
       "      <th>S.Bradford</th>\n",
       "      <th>True</th>\n",
       "      <td>0.076923</td>\n",
       "      <td>2</td>\n",
       "      <td>26.0</td>\n",
       "    </tr>\n",
       "  </tbody>\n",
       "</table>\n",
       "</div>"
      ],
      "text/plain": [
       "                                 WinPerc  WinCount  NumofGames\n",
       "passer_player_name win_with_40                                \n",
       "T.Brady            True         0.680851        32        47.0\n",
       "P.Manning          True         0.675000        27        40.0\n",
       "M.Schaub           True         0.500000         7        14.0\n",
       "A.Rodgers          True         0.452381        19        42.0\n",
       "D.Brees            True         0.428571        30        70.0\n",
       "A.Luck             True         0.400000        14        35.0\n",
       "P.Rivers           True         0.365854        15        41.0\n",
       "B.Roethlisberger   True         0.363636        16        44.0\n",
       "A.Dalton           True         0.346154         9        26.0\n",
       "J.Flacco           True         0.340909        15        44.0\n",
       "M.Ryan             True         0.339623        18        53.0\n",
       "M.Hasselbeck       True         0.333333         5        15.0\n",
       "R.Fitzpatrick      True         0.318182         7        22.0\n",
       "M.Sanchez          True         0.307692         4        13.0\n",
       "E.Manning          True         0.304348        14        46.0\n",
       "M.Stafford         True         0.288136        17        59.0\n",
       "K.Cousins          True         0.280000         7        25.0\n",
       "J.McCown           True         0.272727         3        11.0\n",
       "A.Smith            True         0.263158         5        19.0\n",
       "B.Hoyer            True         0.250000         3        12.0\n",
       "C.Newton           True         0.230769         3        13.0\n",
       "C.Wentz            True         0.230769         3        13.0\n",
       "J.Freeman          True         0.230769         3        13.0\n",
       "C.Palmer           True         0.222222         8        36.0\n",
       "D.Carr             True         0.210526         4        19.0\n",
       "J.Cutler           True         0.210526         4        19.0\n",
       "C.Keenum           True         0.181818         2        11.0\n",
       "T.Romo             True         0.173913         4        23.0\n",
       "C.Henne            True         0.166667         3        18.0\n",
       "K.Orton            True         0.153846         2        13.0\n",
       "B.Bortles          True         0.117647         2        17.0\n",
       "R.Tannehill        True         0.117647         2        17.0\n",
       "S.Bradford         True         0.076923         2        26.0"
      ]
     },
     "execution_count": 14,
     "metadata": {},
     "output_type": "execute_result"
    }
   ],
   "source": [
    "#Data frame that is sorted with best winning percentags and then the number of games won throwing over 40 times\n",
    "Winning = pd.concat([WinPerc,WinCount], axis = 1)\n",
    "Winning = Winning.sort_values(by=['WinPerc','WinCount'], ascending = False)\n",
    "Winning['NumofGames'] = Winning['WinCount']/Winning['WinPerc'] #Calculate the number of games that the quaterback threw 40+ times\n",
    "Winning[Winning['NumofGames'] > 10] #just look at quaterbacks who have 5 or more wins \n",
    "#Winning['WinPerc'].mean() #average winning percentage "
   ]
  },
  {
   "cell_type": "markdown",
   "metadata": {},
   "source": [
    "__Summary__"
   ]
  },
  {
   "cell_type": "markdown",
   "metadata": {},
   "source": [
    "With only two quarterbacks with winning percentages in games where they throw over 40 times, we would not recommend increasing the number of throws per games. "
   ]
  },
  {
   "cell_type": "markdown",
   "metadata": {},
   "source": [
    "__Question 2: What leads to more points, runs or throws?__"
   ]
  },
  {
   "cell_type": "code",
   "execution_count": 20,
   "metadata": {},
   "outputs": [
    {
     "data": {
      "text/html": [
       "<div>\n",
       "<style scoped>\n",
       "    .dataframe tbody tr th:only-of-type {\n",
       "        vertical-align: middle;\n",
       "    }\n",
       "\n",
       "    .dataframe tbody tr th {\n",
       "        vertical-align: top;\n",
       "    }\n",
       "\n",
       "    .dataframe thead th {\n",
       "        text-align: right;\n",
       "    }\n",
       "</style>\n",
       "<table border=\"1\" class=\"dataframe\">\n",
       "  <thead>\n",
       "    <tr style=\"text-align: right;\">\n",
       "      <th></th>\n",
       "      <th>game_id</th>\n",
       "      <th>posteam</th>\n",
       "      <th>posteam_score</th>\n",
       "      <th>num_runs</th>\n",
       "      <th>num_throws</th>\n",
       "      <th>throws_over_run</th>\n",
       "      <th>normal_posteam_score</th>\n",
       "    </tr>\n",
       "  </thead>\n",
       "  <tbody>\n",
       "    <tr>\n",
       "      <th>0</th>\n",
       "      <td>2009091000</td>\n",
       "      <td>PIT</td>\n",
       "      <td>10.0</td>\n",
       "      <td>23</td>\n",
       "      <td>43</td>\n",
       "      <td>0.303030</td>\n",
       "      <td>-1.185815</td>\n",
       "    </tr>\n",
       "    <tr>\n",
       "      <th>1</th>\n",
       "      <td>2009091000</td>\n",
       "      <td>TEN</td>\n",
       "      <td>10.0</td>\n",
       "      <td>25</td>\n",
       "      <td>35</td>\n",
       "      <td>0.166667</td>\n",
       "      <td>-1.185815</td>\n",
       "    </tr>\n",
       "    <tr>\n",
       "      <th>2</th>\n",
       "      <td>2009091300</td>\n",
       "      <td>ATL</td>\n",
       "      <td>19.0</td>\n",
       "      <td>24</td>\n",
       "      <td>36</td>\n",
       "      <td>0.200000</td>\n",
       "      <td>-0.288207</td>\n",
       "    </tr>\n",
       "    <tr>\n",
       "      <th>3</th>\n",
       "      <td>2009091300</td>\n",
       "      <td>MIA</td>\n",
       "      <td>6.0</td>\n",
       "      <td>22</td>\n",
       "      <td>30</td>\n",
       "      <td>0.153846</td>\n",
       "      <td>-1.584752</td>\n",
       "    </tr>\n",
       "    <tr>\n",
       "      <th>4</th>\n",
       "      <td>2009091301</td>\n",
       "      <td>BAL</td>\n",
       "      <td>37.0</td>\n",
       "      <td>41</td>\n",
       "      <td>43</td>\n",
       "      <td>0.023810</td>\n",
       "      <td>1.507009</td>\n",
       "    </tr>\n",
       "  </tbody>\n",
       "</table>\n",
       "</div>"
      ],
      "text/plain": [
       "      game_id posteam  posteam_score  num_runs  num_throws  throws_over_run  \\\n",
       "0  2009091000     PIT           10.0        23          43         0.303030   \n",
       "1  2009091000     TEN           10.0        25          35         0.166667   \n",
       "2  2009091300     ATL           19.0        24          36         0.200000   \n",
       "3  2009091300     MIA            6.0        22          30         0.153846   \n",
       "4  2009091301     BAL           37.0        41          43         0.023810   \n",
       "\n",
       "   normal_posteam_score  \n",
       "0             -1.185815  \n",
       "1             -1.185815  \n",
       "2             -0.288207  \n",
       "3             -1.584752  \n",
       "4              1.507009  "
      ]
     },
     "execution_count": 20,
     "metadata": {},
     "output_type": "execute_result"
    }
   ],
   "source": [
    "#First get max score for each team for each game\n",
    "pos_team_score = NFL[['game_id','posteam','posteam_score']]\n",
    "pos_team_score = pos_team_score.groupby(['game_id','posteam']).max().reset_index()\n",
    "#Count the number of runs\n",
    "num_runs = NFL[['game_id','posteam','run_location']]\n",
    "num_runs = num_runs.groupby(['game_id','posteam']).count().reset_index()\n",
    "#Count the number of runs\n",
    "num_throws = NFL[['game_id','posteam','pass_location']]\n",
    "num_throws = num_throws.groupby(['game_id','posteam']).count().reset_index()\n",
    "run_v_throw = pd.merge(pos_team_score, num_runs, how = 'inner',\n",
    "                       left_on = ['game_id','posteam'], right_on = ['game_id','posteam'])\n",
    "run_v_throw = pd.merge(run_v_throw, num_throws, how = 'inner',\n",
    "                       left_on = ['game_id','posteam'], right_on = ['game_id','posteam'])\n",
    "run_v_throw = run_v_throw.rename(columns = {'run_location':'num_runs', 'pass_location':'num_throws'})\n",
    "run_v_throw['throws_over_run'] = (run_v_throw['num_throws'] - run_v_throw['num_runs'])/(run_v_throw['num_throws'] + run_v_throw['num_runs'])\n",
    "#Normalize the data\n",
    "run_v_throw['normal_posteam_score'] = (run_v_throw['posteam_score']  - run_v_throw['posteam_score'].mean())/run_v_throw['posteam_score'].std()\n",
    "#run_v_throw['normal_throws_over_run'] = (run_v_throw['throws_over_run']  - run_v_throw['throws_over_run'].mean())/run_v_throw['throws_over_run'].std()\n",
    "run_v_throw.head()"
   ]
  },
  {
   "cell_type": "code",
   "execution_count": 16,
   "metadata": {
    "scrolled": false
   },
   "outputs": [
    {
     "data": {
      "image/png": "[encoded data removed]",
      "text/plain": [
       "<Figure size 432x288 with 1 Axes>"
      ]
     },
     "metadata": {
      "needs_background": "light"
     },
     "output_type": "display_data"
    },
    {
     "data": {
      "image/png": "[encoded data removed]",
      "text/plain": [
       "<Figure size 432x288 with 1 Axes>"
      ]
     },
     "metadata": {
      "needs_background": "light"
     },
     "output_type": "display_data"
    },
    {
     "data": {
      "image/png": "[encoded data removed]",
      "text/plain": [
       "<Figure size 432x288 with 1 Axes>"
      ]
     },
     "metadata": {
      "needs_background": "light"
     },
     "output_type": "display_data"
    }
   ],
   "source": [
    "#Visualize data\n",
    "run_v_throw.hist('num_runs', bins = 20)\n",
    "run_v_throw.hist('num_throws', bins = 20)\n",
    "run_v_throw.hist('throws_over_run', bins = 20)\n",
    "plt.show()"
   ]
  },
  {
   "cell_type": "markdown",
   "metadata": {},
   "source": [
    "From the histograms above, most games have slightly more throws then runs. Below is the linear regression of the number of throws over runs and the score of the team to see if throwing or running more leads to more points. "
   ]
  },
  {
   "cell_type": "code",
   "execution_count": 17,
   "metadata": {},
   "outputs": [
    {
     "data": {
      "text/plain": [
       "<function matplotlib.pyplot.show(close=None, block=None)>"
      ]
     },
     "execution_count": 17,
     "metadata": {},
     "output_type": "execute_result"
    },
    {
     "data": {
      "image/png": "[encoded data removed]",
      "text/plain": [
       "<Figure size 432x288 with 1 Axes>"
      ]
     },
     "metadata": {
      "needs_background": "light"
     },
     "output_type": "display_data"
    }
   ],
   "source": [
    "ax = sns.regplot(x='throws_over_run', y='normal_posteam_score', data=run_v_throw)\n",
    "plt.show"
   ]
  },
  {
   "cell_type": "code",
   "execution_count": 18,
   "metadata": {},
   "outputs": [
    {
     "data": {
      "text/html": [
       "<table class=\"simpletable\">\n",
       "<caption>OLS Regression Results</caption>\n",
       "<tr>\n",
       "  <th>Dep. Variable:</th>    <td>normal_posteam_score</td> <th>  R-squared:         </th> <td>   0.091</td> \n",
       "</tr>\n",
       "<tr>\n",
       "  <th>Model:</th>                     <td>OLS</td>         <th>  Adj. R-squared:    </th> <td>   0.091</td> \n",
       "</tr>\n",
       "<tr>\n",
       "  <th>Method:</th>               <td>Least Squares</td>    <th>  F-statistic:       </th> <td>   507.0</td> \n",
       "</tr>\n",
       "<tr>\n",
       "  <th>Date:</th>               <td>Mon, 09 May 2022</td>   <th>  Prob (F-statistic):</th> <td>4.62e-107</td>\n",
       "</tr>\n",
       "<tr>\n",
       "  <th>Time:</th>                   <td>19:50:34</td>       <th>  Log-Likelihood:    </th> <td> -6926.3</td> \n",
       "</tr>\n",
       "<tr>\n",
       "  <th>No. Observations:</th>        <td>  5052</td>        <th>  AIC:               </th> <td>1.386e+04</td>\n",
       "</tr>\n",
       "<tr>\n",
       "  <th>Df Residuals:</th>            <td>  5050</td>        <th>  BIC:               </th> <td>1.387e+04</td>\n",
       "</tr>\n",
       "<tr>\n",
       "  <th>Df Model:</th>                <td>     1</td>        <th>                     </th>     <td> </td>    \n",
       "</tr>\n",
       "<tr>\n",
       "  <th>Covariance Type:</th>        <td>nonrobust</td>      <th>                     </th>     <td> </td>    \n",
       "</tr>\n",
       "</table>\n",
       "<table class=\"simpletable\">\n",
       "<tr>\n",
       "         <td></td>            <th>coef</th>     <th>std err</th>      <th>t</th>      <th>P>|t|</th>  <th>[0.025</th>    <th>0.975]</th>  \n",
       "</tr>\n",
       "<tr>\n",
       "  <th>Intercept</th>       <td>    0.1956</td> <td>    0.016</td> <td>   12.240</td> <td> 0.000</td> <td>    0.164</td> <td>    0.227</td>\n",
       "</tr>\n",
       "<tr>\n",
       "  <th>throws_over_run</th> <td>   -1.3922</td> <td>    0.062</td> <td>  -22.516</td> <td> 0.000</td> <td>   -1.513</td> <td>   -1.271</td>\n",
       "</tr>\n",
       "</table>\n",
       "<table class=\"simpletable\">\n",
       "<tr>\n",
       "  <th>Omnibus:</th>       <td>81.960</td> <th>  Durbin-Watson:     </th> <td>   1.842</td>\n",
       "</tr>\n",
       "<tr>\n",
       "  <th>Prob(Omnibus):</th> <td> 0.000</td> <th>  Jarque-Bera (JB):  </th> <td>  86.033</td>\n",
       "</tr>\n",
       "<tr>\n",
       "  <th>Skew:</th>          <td> 0.306</td> <th>  Prob(JB):          </th> <td>2.08e-19</td>\n",
       "</tr>\n",
       "<tr>\n",
       "  <th>Kurtosis:</th>      <td> 3.186</td> <th>  Cond. No.          </th> <td>    4.70</td>\n",
       "</tr>\n",
       "</table><br/><br/>Notes:<br/>[1] Standard Errors assume that the covariance matrix of the errors is correctly specified."
      ],
      "text/plain": [
       "<class 'statsmodels.iolib.summary.Summary'>\n",
       "\"\"\"\n",
       "                             OLS Regression Results                             \n",
       "================================================================================\n",
       "Dep. Variable:     normal_posteam_score   R-squared:                       0.091\n",
       "Model:                              OLS   Adj. R-squared:                  0.091\n",
       "Method:                   Least Squares   F-statistic:                     507.0\n",
       "Date:                  Mon, 09 May 2022   Prob (F-statistic):          4.62e-107\n",
       "Time:                          19:50:34   Log-Likelihood:                -6926.3\n",
       "No. Observations:                  5052   AIC:                         1.386e+04\n",
       "Df Residuals:                      5050   BIC:                         1.387e+04\n",
       "Df Model:                             1                                         \n",
       "Covariance Type:              nonrobust                                         \n",
       "===================================================================================\n",
       "                      coef    std err          t      P>|t|      [0.025      0.975]\n",
       "-----------------------------------------------------------------------------------\n",
       "Intercept           0.1956      0.016     12.240      0.000       0.164       0.227\n",
       "throws_over_run    -1.3922      0.062    -22.516      0.000      -1.513      -1.271\n",
       "==============================================================================\n",
       "Omnibus:                       81.960   Durbin-Watson:                   1.842\n",
       "Prob(Omnibus):                  0.000   Jarque-Bera (JB):               86.033\n",
       "Skew:                           0.306   Prob(JB):                     2.08e-19\n",
       "Kurtosis:                       3.186   Cond. No.                         4.70\n",
       "==============================================================================\n",
       "\n",
       "Notes:\n",
       "[1] Standard Errors assume that the covariance matrix of the errors is correctly specified.\n",
       "\"\"\""
      ]
     },
     "execution_count": 18,
     "metadata": {},
     "output_type": "execute_result"
    }
   ],
   "source": [
    "#Do a ordinarly least square regression on the data\n",
    "result = sm.ols(formula = \"normal_posteam_score ~ throws_over_run\", data = run_v_throw).fit()\n",
    "result.summary()"
   ]
  },
  {
   "cell_type": "markdown",
   "metadata": {},
   "source": [
    "Our plot shows there is trend that running the ball leads to more points. From the summary of the ordinary least square regression, the p-value is well below the 0.05 so its statistically significant. However, the R-Square is 0.091. So only 9% of the change in score is due to the number of throws over run. Not enough to recommend a full focus of only the run game verses the teams throwing game. But there is some correlation so our recommendation is to focus on building a strong run game if a team is in the process of a rebuild. "
   ]
  }
 ],
 "metadata": {
  "colab": {
   "collapsed_sections": [],
   "name": "IST652_final_project.ipynb",
   "provenance": []
  },
  "kernelspec": {
   "display_name": "Python 3 (ipykernel)",
   "language": "python",
   "name": "python3"
  },
  "language_info": {
   "codemirror_mode": {
    "name": "ipython",
    "version": 3
   },
   "file_extension": ".py",
   "mimetype": "text/x-python",
   "name": "python",
   "nbconvert_exporter": "python",
   "pygments_lexer": "ipython3",
   "version": "3.8.8"
  }
 },
 "nbformat": 4,
 "nbformat_minor": 1
}
